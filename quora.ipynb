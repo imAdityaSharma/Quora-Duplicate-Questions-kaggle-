{
 "cells": [
  {
   "cell_type": "code",
   "execution_count": 1,
   "metadata": {},
   "outputs": [],
   "source": [
    "import pandas as pd\n",
    "from nltk.tokenize import word_tokenize as wt \n",
    "from nltk.corpus import stopwords"
   ]
  },
  {
   "cell_type": "code",
   "execution_count": 36,
   "metadata": {},
   "outputs": [],
   "source": [
    "from sklearn.feature_extraction.text import CountVectorizer\n",
    "from sklearn.metrics.pairwise import cosine_similarity"
   ]
  },
  {
   "cell_type": "code",
   "execution_count": 31,
   "metadata": {},
   "outputs": [],
   "source": [
    "from nltk.stem import wordnet\n",
    "from nltk.stem import WordNetLemmatizer\n",
    "import spacy\n",
    "nlp = spacy.load(\"en_core_web_sm\")\n",
    "lemmatizer = WordNetLemmatizer()"
   ]
  },
  {
   "cell_type": "code",
   "execution_count": 13,
   "metadata": {},
   "outputs": [
    {
     "data": {
      "text/html": [
       "<div>\n",
       "<style scoped>\n",
       "    .dataframe tbody tr th:only-of-type {\n",
       "        vertical-align: middle;\n",
       "    }\n",
       "\n",
       "    .dataframe tbody tr th {\n",
       "        vertical-align: top;\n",
       "    }\n",
       "\n",
       "    .dataframe thead th {\n",
       "        text-align: right;\n",
       "    }\n",
       "</style>\n",
       "<table border=\"1\" class=\"dataframe\">\n",
       "  <thead>\n",
       "    <tr style=\"text-align: right;\">\n",
       "      <th></th>\n",
       "      <th>id</th>\n",
       "      <th>qid1</th>\n",
       "      <th>qid2</th>\n",
       "      <th>question1</th>\n",
       "      <th>question2</th>\n",
       "      <th>is_duplicate</th>\n",
       "    </tr>\n",
       "  </thead>\n",
       "  <tbody>\n",
       "    <tr>\n",
       "      <th>0</th>\n",
       "      <td>0</td>\n",
       "      <td>1</td>\n",
       "      <td>2</td>\n",
       "      <td>What is the step by step guide to invest in sh...</td>\n",
       "      <td>What is the step by step guide to invest in sh...</td>\n",
       "      <td>0</td>\n",
       "    </tr>\n",
       "    <tr>\n",
       "      <th>1</th>\n",
       "      <td>1</td>\n",
       "      <td>3</td>\n",
       "      <td>4</td>\n",
       "      <td>What is the story of Kohinoor (Koh-i-Noor) Dia...</td>\n",
       "      <td>What would happen if the Indian government sto...</td>\n",
       "      <td>0</td>\n",
       "    </tr>\n",
       "  </tbody>\n",
       "</table>\n",
       "</div>"
      ],
      "text/plain": [
       "   id  qid1  qid2                                          question1  \\\n",
       "0   0     1     2  What is the step by step guide to invest in sh...   \n",
       "1   1     3     4  What is the story of Kohinoor (Koh-i-Noor) Dia...   \n",
       "\n",
       "                                           question2  is_duplicate  \n",
       "0  What is the step by step guide to invest in sh...             0  \n",
       "1  What would happen if the Indian government sto...             0  "
      ]
     },
     "execution_count": 13,
     "metadata": {},
     "output_type": "execute_result"
    }
   ],
   "source": [
    "df_qs= pd.read_csv('questions.csv',header=0)\n",
    "df_qs.head(2)"
   ]
  },
  {
   "cell_type": "code",
   "execution_count": 14,
   "metadata": {},
   "outputs": [],
   "source": [
    "new_qs_df = df_qs.sample(40000)\n",
    "new_qs_df.drop(['id'],axis=1,inplace=True)"
   ]
  },
  {
   "cell_type": "code",
   "execution_count": 7,
   "metadata": {},
   "outputs": [],
   "source": [
    "def remove_stopwords(text):\n",
    "    stopWords = set(stopwords.words('english'))\n",
    "    words = wt(text)\n",
    "    filtered_words = [word for word in words if word.lower() not in stopWords]\n",
    "    return ' '.join(filtered_words)"
   ]
  },
  {
   "cell_type": "code",
   "execution_count": 15,
   "metadata": {},
   "outputs": [],
   "source": [
    "new_qs_df['question1']=new_qs_df['question1'].apply(lambda x: str(x).replace('.', '').replace(',', '').replace(\"'\", '').replace('\"', '').replace('-',' ').replace('&','and').replace('?',''))\n",
    "new_qs_df['question2']=new_qs_df['question2'].apply(lambda x: str(x).replace('.', '').replace(',', '').replace(\"'\", '').replace('\"', '').replace('-',' ').replace('&','and').replace('?',''))"
   ]
  },
  {
   "cell_type": "code",
   "execution_count": 16,
   "metadata": {},
   "outputs": [],
   "source": [
    "new_qs_df['question1']=new_qs_df['question1'].apply(lambda x:remove_stopwords(x))\n",
    "new_qs_df['question2']=new_qs_df['question2'].apply(lambda x:remove_stopwords(x))"
   ]
  },
  {
   "cell_type": "code",
   "execution_count": 17,
   "metadata": {},
   "outputs": [
    {
     "data": {
      "text/html": [
       "<div>\n",
       "<style scoped>\n",
       "    .dataframe tbody tr th:only-of-type {\n",
       "        vertical-align: middle;\n",
       "    }\n",
       "\n",
       "    .dataframe tbody tr th {\n",
       "        vertical-align: top;\n",
       "    }\n",
       "\n",
       "    .dataframe thead th {\n",
       "        text-align: right;\n",
       "    }\n",
       "</style>\n",
       "<table border=\"1\" class=\"dataframe\">\n",
       "  <thead>\n",
       "    <tr style=\"text-align: right;\">\n",
       "      <th></th>\n",
       "      <th>qid1</th>\n",
       "      <th>qid2</th>\n",
       "      <th>question1</th>\n",
       "      <th>question2</th>\n",
       "      <th>is_duplicate</th>\n",
       "    </tr>\n",
       "  </thead>\n",
       "  <tbody>\n",
       "    <tr>\n",
       "      <th>12545</th>\n",
       "      <td>25047</td>\n",
       "      <td>25048</td>\n",
       "      <td>age appropriate wear bold lipstick</td>\n",
       "      <td>lipstick wear red saree</td>\n",
       "      <td>0</td>\n",
       "    </tr>\n",
       "    <tr>\n",
       "      <th>122332</th>\n",
       "      <td>153775</td>\n",
       "      <td>242414</td>\n",
       "      <td>cheapest place live San Francisco bootstrappin...</td>\n",
       "      <td>new grads afford living somewhere like NYC San...</td>\n",
       "      <td>0</td>\n",
       "    </tr>\n",
       "    <tr>\n",
       "      <th>166595</th>\n",
       "      <td>329273</td>\n",
       "      <td>329274</td>\n",
       "      <td>museum</td>\n",
       "      <td>museum</td>\n",
       "      <td>0</td>\n",
       "    </tr>\n",
       "    <tr>\n",
       "      <th>343122</th>\n",
       "      <td>672512</td>\n",
       "      <td>672513</td>\n",
       "      <td>talk English fluently</td>\n",
       "      <td>speak English fluency</td>\n",
       "      <td>1</td>\n",
       "    </tr>\n",
       "    <tr>\n",
       "      <th>274930</th>\n",
       "      <td>540604</td>\n",
       "      <td>540605</td>\n",
       "      <td>colleges look cumulative gpa four years high s...</td>\n",
       "      <td>356 GPA good sophomore year high school</td>\n",
       "      <td>0</td>\n",
       "    </tr>\n",
       "    <tr>\n",
       "      <th>...</th>\n",
       "      <td>...</td>\n",
       "      <td>...</td>\n",
       "      <td>...</td>\n",
       "      <td>...</td>\n",
       "      <td>...</td>\n",
       "    </tr>\n",
       "    <tr>\n",
       "      <th>152007</th>\n",
       "      <td>300683</td>\n",
       "      <td>300684</td>\n",
       "      <td>government India reducing price fuel crude oil...</td>\n",
       "      <td>government India reducing price fuel crude oil...</td>\n",
       "      <td>0</td>\n",
       "    </tr>\n",
       "    <tr>\n",
       "      <th>295356</th>\n",
       "      <td>580191</td>\n",
       "      <td>580192</td>\n",
       "      <td>people dont judge based gender would people st...</td>\n",
       "      <td>gender largely social construct would someone ...</td>\n",
       "      <td>0</td>\n",
       "    </tr>\n",
       "    <tr>\n",
       "      <th>360696</th>\n",
       "      <td>706235</td>\n",
       "      <td>706236</td>\n",
       "      <td>block Pingdom Google Chrome</td>\n",
       "      <td>way block ads Google chrome mobile application</td>\n",
       "      <td>0</td>\n",
       "    </tr>\n",
       "    <tr>\n",
       "      <th>399279</th>\n",
       "      <td>780082</td>\n",
       "      <td>780083</td>\n",
       "      <td>braingasmic non fiction reads</td>\n",
       "      <td>must read non fiction books</td>\n",
       "      <td>0</td>\n",
       "    </tr>\n",
       "    <tr>\n",
       "      <th>239612</th>\n",
       "      <td>471974</td>\n",
       "      <td>471975</td>\n",
       "      <td>banning 500 1000 notes stop black money</td>\n",
       "      <td>banning present 500/1000 notes fight black mon...</td>\n",
       "      <td>1</td>\n",
       "    </tr>\n",
       "  </tbody>\n",
       "</table>\n",
       "<p>40000 rows × 5 columns</p>\n",
       "</div>"
      ],
      "text/plain": [
       "          qid1    qid2                                          question1  \\\n",
       "12545    25047   25048                 age appropriate wear bold lipstick   \n",
       "122332  153775  242414  cheapest place live San Francisco bootstrappin...   \n",
       "166595  329273  329274                                             museum   \n",
       "343122  672512  672513                              talk English fluently   \n",
       "274930  540604  540605  colleges look cumulative gpa four years high s...   \n",
       "...        ...     ...                                                ...   \n",
       "152007  300683  300684  government India reducing price fuel crude oil...   \n",
       "295356  580191  580192  people dont judge based gender would people st...   \n",
       "360696  706235  706236                        block Pingdom Google Chrome   \n",
       "399279  780082  780083                      braingasmic non fiction reads   \n",
       "239612  471974  471975            banning 500 1000 notes stop black money   \n",
       "\n",
       "                                                question2  is_duplicate  \n",
       "12545                             lipstick wear red saree             0  \n",
       "122332  new grads afford living somewhere like NYC San...             0  \n",
       "166595                                             museum             0  \n",
       "343122                              speak English fluency             1  \n",
       "274930            356 GPA good sophomore year high school             0  \n",
       "...                                                   ...           ...  \n",
       "152007  government India reducing price fuel crude oil...             0  \n",
       "295356  gender largely social construct would someone ...             0  \n",
       "360696     way block ads Google chrome mobile application             0  \n",
       "399279                        must read non fiction books             0  \n",
       "239612  banning present 500/1000 notes fight black mon...             1  \n",
       "\n",
       "[40000 rows x 5 columns]"
      ]
     },
     "execution_count": 17,
     "metadata": {},
     "output_type": "execute_result"
    }
   ],
   "source": [
    "new_qs_df"
   ]
  },
  {
   "cell_type": "code",
   "execution_count": 22,
   "metadata": {},
   "outputs": [
    {
     "data": {
      "text/plain": [
       "'government India reducing price fuel crude oil lowest 2016'"
      ]
     },
     "execution_count": 22,
     "metadata": {},
     "output_type": "execute_result"
    }
   ],
   "source": [
    "new_qs_df['question1'][152007]"
   ]
  },
  {
   "cell_type": "code",
   "execution_count": 24,
   "metadata": {},
   "outputs": [
    {
     "name": "stdout",
     "output_type": "stream",
     "text": [
      "58   58\n",
      "9   9\n"
     ]
    }
   ],
   "source": [
    "def total_characters(text):\n",
    "    return len(text)\n",
    "def total_words(text):\n",
    "    return len(text.split())\n",
    "print(total_characters(new_qs_df['question1'][152007]),' ',total_characters(new_qs_df['question2'][152007]))\n",
    "print(total_words(new_qs_df['question1'][152007]),' ',total_words(new_qs_df['question2'][152007]))\n"
   ]
  },
  {
   "cell_type": "code",
   "execution_count": 25,
   "metadata": {},
   "outputs": [],
   "source": [
    "new_qs_df['total_characters_q1']=new_qs_df['question1'].apply(lambda x:total_characters(x))\n",
    "new_qs_df['total_characters_q2']=new_qs_df['question2'].apply(lambda x:total_characters(x))\n",
    "new_qs_df['total_words_q1']=new_qs_df['question1'].apply(lambda x:total_words(x))\n",
    "new_qs_df['total_words_q2']=new_qs_df['question2'].apply(lambda x:total_words(x))"
   ]
  },
  {
   "cell_type": "code",
   "execution_count": 26,
   "metadata": {},
   "outputs": [
    {
     "data": {
      "text/html": [
       "<div>\n",
       "<style scoped>\n",
       "    .dataframe tbody tr th:only-of-type {\n",
       "        vertical-align: middle;\n",
       "    }\n",
       "\n",
       "    .dataframe tbody tr th {\n",
       "        vertical-align: top;\n",
       "    }\n",
       "\n",
       "    .dataframe thead th {\n",
       "        text-align: right;\n",
       "    }\n",
       "</style>\n",
       "<table border=\"1\" class=\"dataframe\">\n",
       "  <thead>\n",
       "    <tr style=\"text-align: right;\">\n",
       "      <th></th>\n",
       "      <th>qid1</th>\n",
       "      <th>qid2</th>\n",
       "      <th>question1</th>\n",
       "      <th>question2</th>\n",
       "      <th>is_duplicate</th>\n",
       "      <th>total_characters_q1</th>\n",
       "      <th>total_characters_q2</th>\n",
       "      <th>total_words_q1</th>\n",
       "      <th>total_words_q2</th>\n",
       "    </tr>\n",
       "  </thead>\n",
       "  <tbody>\n",
       "    <tr>\n",
       "      <th>12545</th>\n",
       "      <td>25047</td>\n",
       "      <td>25048</td>\n",
       "      <td>age appropriate wear bold lipstick</td>\n",
       "      <td>lipstick wear red saree</td>\n",
       "      <td>0</td>\n",
       "      <td>34</td>\n",
       "      <td>23</td>\n",
       "      <td>5</td>\n",
       "      <td>4</td>\n",
       "    </tr>\n",
       "    <tr>\n",
       "      <th>122332</th>\n",
       "      <td>153775</td>\n",
       "      <td>242414</td>\n",
       "      <td>cheapest place live San Francisco bootstrappin...</td>\n",
       "      <td>new grads afford living somewhere like NYC San...</td>\n",
       "      <td>0</td>\n",
       "      <td>55</td>\n",
       "      <td>73</td>\n",
       "      <td>7</td>\n",
       "      <td>12</td>\n",
       "    </tr>\n",
       "    <tr>\n",
       "      <th>166595</th>\n",
       "      <td>329273</td>\n",
       "      <td>329274</td>\n",
       "      <td>museum</td>\n",
       "      <td>museum</td>\n",
       "      <td>0</td>\n",
       "      <td>6</td>\n",
       "      <td>6</td>\n",
       "      <td>1</td>\n",
       "      <td>1</td>\n",
       "    </tr>\n",
       "    <tr>\n",
       "      <th>343122</th>\n",
       "      <td>672512</td>\n",
       "      <td>672513</td>\n",
       "      <td>talk English fluently</td>\n",
       "      <td>speak English fluency</td>\n",
       "      <td>1</td>\n",
       "      <td>21</td>\n",
       "      <td>21</td>\n",
       "      <td>3</td>\n",
       "      <td>3</td>\n",
       "    </tr>\n",
       "    <tr>\n",
       "      <th>274930</th>\n",
       "      <td>540604</td>\n",
       "      <td>540605</td>\n",
       "      <td>colleges look cumulative gpa four years high s...</td>\n",
       "      <td>356 GPA good sophomore year high school</td>\n",
       "      <td>0</td>\n",
       "      <td>51</td>\n",
       "      <td>39</td>\n",
       "      <td>8</td>\n",
       "      <td>7</td>\n",
       "    </tr>\n",
       "    <tr>\n",
       "      <th>...</th>\n",
       "      <td>...</td>\n",
       "      <td>...</td>\n",
       "      <td>...</td>\n",
       "      <td>...</td>\n",
       "      <td>...</td>\n",
       "      <td>...</td>\n",
       "      <td>...</td>\n",
       "      <td>...</td>\n",
       "      <td>...</td>\n",
       "    </tr>\n",
       "    <tr>\n",
       "      <th>152007</th>\n",
       "      <td>300683</td>\n",
       "      <td>300684</td>\n",
       "      <td>government India reducing price fuel crude oil...</td>\n",
       "      <td>government India reducing price fuel crude oil...</td>\n",
       "      <td>0</td>\n",
       "      <td>58</td>\n",
       "      <td>58</td>\n",
       "      <td>9</td>\n",
       "      <td>9</td>\n",
       "    </tr>\n",
       "    <tr>\n",
       "      <th>295356</th>\n",
       "      <td>580191</td>\n",
       "      <td>580192</td>\n",
       "      <td>people dont judge based gender would people st...</td>\n",
       "      <td>gender largely social construct would someone ...</td>\n",
       "      <td>0</td>\n",
       "      <td>86</td>\n",
       "      <td>66</td>\n",
       "      <td>15</td>\n",
       "      <td>8</td>\n",
       "    </tr>\n",
       "    <tr>\n",
       "      <th>360696</th>\n",
       "      <td>706235</td>\n",
       "      <td>706236</td>\n",
       "      <td>block Pingdom Google Chrome</td>\n",
       "      <td>way block ads Google chrome mobile application</td>\n",
       "      <td>0</td>\n",
       "      <td>27</td>\n",
       "      <td>46</td>\n",
       "      <td>4</td>\n",
       "      <td>7</td>\n",
       "    </tr>\n",
       "    <tr>\n",
       "      <th>399279</th>\n",
       "      <td>780082</td>\n",
       "      <td>780083</td>\n",
       "      <td>braingasmic non fiction reads</td>\n",
       "      <td>must read non fiction books</td>\n",
       "      <td>0</td>\n",
       "      <td>29</td>\n",
       "      <td>27</td>\n",
       "      <td>4</td>\n",
       "      <td>5</td>\n",
       "    </tr>\n",
       "    <tr>\n",
       "      <th>239612</th>\n",
       "      <td>471974</td>\n",
       "      <td>471975</td>\n",
       "      <td>banning 500 1000 notes stop black money</td>\n",
       "      <td>banning present 500/1000 notes fight black mon...</td>\n",
       "      <td>1</td>\n",
       "      <td>39</td>\n",
       "      <td>58</td>\n",
       "      <td>7</td>\n",
       "      <td>8</td>\n",
       "    </tr>\n",
       "  </tbody>\n",
       "</table>\n",
       "<p>40000 rows × 9 columns</p>\n",
       "</div>"
      ],
      "text/plain": [
       "          qid1    qid2                                          question1  \\\n",
       "12545    25047   25048                 age appropriate wear bold lipstick   \n",
       "122332  153775  242414  cheapest place live San Francisco bootstrappin...   \n",
       "166595  329273  329274                                             museum   \n",
       "343122  672512  672513                              talk English fluently   \n",
       "274930  540604  540605  colleges look cumulative gpa four years high s...   \n",
       "...        ...     ...                                                ...   \n",
       "152007  300683  300684  government India reducing price fuel crude oil...   \n",
       "295356  580191  580192  people dont judge based gender would people st...   \n",
       "360696  706235  706236                        block Pingdom Google Chrome   \n",
       "399279  780082  780083                      braingasmic non fiction reads   \n",
       "239612  471974  471975            banning 500 1000 notes stop black money   \n",
       "\n",
       "                                                question2  is_duplicate  \\\n",
       "12545                             lipstick wear red saree             0   \n",
       "122332  new grads afford living somewhere like NYC San...             0   \n",
       "166595                                             museum             0   \n",
       "343122                              speak English fluency             1   \n",
       "274930            356 GPA good sophomore year high school             0   \n",
       "...                                                   ...           ...   \n",
       "152007  government India reducing price fuel crude oil...             0   \n",
       "295356  gender largely social construct would someone ...             0   \n",
       "360696     way block ads Google chrome mobile application             0   \n",
       "399279                        must read non fiction books             0   \n",
       "239612  banning present 500/1000 notes fight black mon...             1   \n",
       "\n",
       "        total_characters_q1  total_characters_q2  total_words_q1  \\\n",
       "12545                    34                   23               5   \n",
       "122332                   55                   73               7   \n",
       "166595                    6                    6               1   \n",
       "343122                   21                   21               3   \n",
       "274930                   51                   39               8   \n",
       "...                     ...                  ...             ...   \n",
       "152007                   58                   58               9   \n",
       "295356                   86                   66              15   \n",
       "360696                   27                   46               4   \n",
       "399279                   29                   27               4   \n",
       "239612                   39                   58               7   \n",
       "\n",
       "        total_words_q2  \n",
       "12545                4  \n",
       "122332              12  \n",
       "166595               1  \n",
       "343122               3  \n",
       "274930               7  \n",
       "...                ...  \n",
       "152007               9  \n",
       "295356               8  \n",
       "360696               7  \n",
       "399279               5  \n",
       "239612               8  \n",
       "\n",
       "[40000 rows x 9 columns]"
      ]
     },
     "execution_count": 26,
     "metadata": {},
     "output_type": "execute_result"
    }
   ],
   "source": [
    "new_qs_df"
   ]
  },
  {
   "cell_type": "code",
   "execution_count": 33,
   "metadata": {},
   "outputs": [],
   "source": [
    "def lemma(text):\n",
    "    lemm = [word.lemma_ for word in nlp(text)]\n",
    "    return ' '.join(lemm)\n"
   ]
  },
  {
   "cell_type": "code",
   "execution_count": 34,
   "metadata": {},
   "outputs": [],
   "source": [
    "new_qs_df['question1']=new_qs_df['question1'].apply(lambda x:lemma(x))\n",
    "new_qs_df['question2']=new_qs_df['question2'].apply(lambda x:lemma(x))"
   ]
  },
  {
   "cell_type": "code",
   "execution_count": null,
   "metadata": {},
   "outputs": [],
   "source": [
    "new_qs_df['question1']=new_qs_df['question1'].apply(lambda x: wt(x))\n",
    "new_qs_df['question2']=new_qs_df['question2'].apply(lambda x: wt(x))"
   ]
  },
  {
   "cell_type": "code",
   "execution_count": 38,
   "metadata": {},
   "outputs": [],
   "source": [
    "ques=list(new_qs_df['question1'])+list(new_qs_df['question2'])"
   ]
  },
  {
   "cell_type": "code",
   "execution_count": 39,
   "metadata": {},
   "outputs": [],
   "source": [
    "import numpy as np"
   ]
  },
  {
   "cell_type": "code",
   "execution_count": 42,
   "metadata": {},
   "outputs": [],
   "source": [
    "cv = CountVectorizer(max_features=3000)\n",
    "q1_ar,q2_ar = np.vsplit(cv.fit_transform(ques).toarray(),2)\n"
   ]
  },
  {
   "cell_type": "code",
   "execution_count": 44,
   "metadata": {},
   "outputs": [],
   "source": [
    "tdf1=pd.DataFrame(q1_ar,index=new_qs_df.index)\n",
    "tdf2=pd.DataFrame(q2_ar,index=new_qs_df.index)\n",
    "tdf = pd.concat([tdf1,tdf2],axis=1)"
   ]
  },
  {
   "cell_type": "code",
   "execution_count": 46,
   "metadata": {},
   "outputs": [],
   "source": [
    "final_df = new_qs_df.drop(columns=['qid1','qid2','question1','question2'])"
   ]
  },
  {
   "cell_type": "code",
   "execution_count": 45,
   "metadata": {},
   "outputs": [
    {
     "data": {
      "text/plain": [
       "(40000, 6000)"
      ]
     },
     "execution_count": 45,
     "metadata": {},
     "output_type": "execute_result"
    }
   ],
   "source": [
    "tdf.shape"
   ]
  },
  {
   "cell_type": "code",
   "execution_count": 47,
   "metadata": {},
   "outputs": [
    {
     "data": {
      "text/plain": [
       "(40000, 6005)"
      ]
     },
     "execution_count": 47,
     "metadata": {},
     "output_type": "execute_result"
    }
   ],
   "source": [
    "final_df=pd.concat([final_df, tdf], axis=1)\n",
    "final_df.shape"
   ]
  },
  {
   "cell_type": "code",
   "execution_count": 49,
   "metadata": {},
   "outputs": [
    {
     "data": {
      "text/html": [
       "<div>\n",
       "<style scoped>\n",
       "    .dataframe tbody tr th:only-of-type {\n",
       "        vertical-align: middle;\n",
       "    }\n",
       "\n",
       "    .dataframe tbody tr th {\n",
       "        vertical-align: top;\n",
       "    }\n",
       "\n",
       "    .dataframe thead th {\n",
       "        text-align: right;\n",
       "    }\n",
       "</style>\n",
       "<table border=\"1\" class=\"dataframe\">\n",
       "  <thead>\n",
       "    <tr style=\"text-align: right;\">\n",
       "      <th></th>\n",
       "      <th>is_duplicate</th>\n",
       "      <th>total_characters_q1</th>\n",
       "      <th>total_characters_q2</th>\n",
       "      <th>total_words_q1</th>\n",
       "      <th>total_words_q2</th>\n",
       "      <th>0</th>\n",
       "      <th>1</th>\n",
       "      <th>2</th>\n",
       "      <th>3</th>\n",
       "      <th>4</th>\n",
       "      <th>...</th>\n",
       "      <th>2990</th>\n",
       "      <th>2991</th>\n",
       "      <th>2992</th>\n",
       "      <th>2993</th>\n",
       "      <th>2994</th>\n",
       "      <th>2995</th>\n",
       "      <th>2996</th>\n",
       "      <th>2997</th>\n",
       "      <th>2998</th>\n",
       "      <th>2999</th>\n",
       "    </tr>\n",
       "  </thead>\n",
       "  <tbody>\n",
       "    <tr>\n",
       "      <th>143169</th>\n",
       "      <td>0</td>\n",
       "      <td>28</td>\n",
       "      <td>35</td>\n",
       "      <td>5</td>\n",
       "      <td>7</td>\n",
       "      <td>0</td>\n",
       "      <td>0</td>\n",
       "      <td>0</td>\n",
       "      <td>0</td>\n",
       "      <td>0</td>\n",
       "      <td>...</td>\n",
       "      <td>0</td>\n",
       "      <td>0</td>\n",
       "      <td>0</td>\n",
       "      <td>0</td>\n",
       "      <td>0</td>\n",
       "      <td>0</td>\n",
       "      <td>0</td>\n",
       "      <td>0</td>\n",
       "      <td>0</td>\n",
       "      <td>0</td>\n",
       "    </tr>\n",
       "    <tr>\n",
       "      <th>375405</th>\n",
       "      <td>1</td>\n",
       "      <td>12</td>\n",
       "      <td>38</td>\n",
       "      <td>2</td>\n",
       "      <td>5</td>\n",
       "      <td>0</td>\n",
       "      <td>0</td>\n",
       "      <td>0</td>\n",
       "      <td>0</td>\n",
       "      <td>0</td>\n",
       "      <td>...</td>\n",
       "      <td>0</td>\n",
       "      <td>0</td>\n",
       "      <td>0</td>\n",
       "      <td>0</td>\n",
       "      <td>0</td>\n",
       "      <td>0</td>\n",
       "      <td>0</td>\n",
       "      <td>0</td>\n",
       "      <td>0</td>\n",
       "      <td>0</td>\n",
       "    </tr>\n",
       "    <tr>\n",
       "      <th>150837</th>\n",
       "      <td>1</td>\n",
       "      <td>26</td>\n",
       "      <td>40</td>\n",
       "      <td>3</td>\n",
       "      <td>4</td>\n",
       "      <td>0</td>\n",
       "      <td>0</td>\n",
       "      <td>0</td>\n",
       "      <td>0</td>\n",
       "      <td>0</td>\n",
       "      <td>...</td>\n",
       "      <td>0</td>\n",
       "      <td>0</td>\n",
       "      <td>0</td>\n",
       "      <td>0</td>\n",
       "      <td>0</td>\n",
       "      <td>0</td>\n",
       "      <td>0</td>\n",
       "      <td>0</td>\n",
       "      <td>0</td>\n",
       "      <td>0</td>\n",
       "    </tr>\n",
       "    <tr>\n",
       "      <th>212537</th>\n",
       "      <td>1</td>\n",
       "      <td>33</td>\n",
       "      <td>26</td>\n",
       "      <td>4</td>\n",
       "      <td>3</td>\n",
       "      <td>0</td>\n",
       "      <td>0</td>\n",
       "      <td>0</td>\n",
       "      <td>0</td>\n",
       "      <td>0</td>\n",
       "      <td>...</td>\n",
       "      <td>0</td>\n",
       "      <td>0</td>\n",
       "      <td>0</td>\n",
       "      <td>0</td>\n",
       "      <td>0</td>\n",
       "      <td>0</td>\n",
       "      <td>0</td>\n",
       "      <td>0</td>\n",
       "      <td>0</td>\n",
       "      <td>0</td>\n",
       "    </tr>\n",
       "    <tr>\n",
       "      <th>177302</th>\n",
       "      <td>0</td>\n",
       "      <td>44</td>\n",
       "      <td>46</td>\n",
       "      <td>5</td>\n",
       "      <td>6</td>\n",
       "      <td>0</td>\n",
       "      <td>0</td>\n",
       "      <td>0</td>\n",
       "      <td>0</td>\n",
       "      <td>0</td>\n",
       "      <td>...</td>\n",
       "      <td>0</td>\n",
       "      <td>0</td>\n",
       "      <td>0</td>\n",
       "      <td>0</td>\n",
       "      <td>0</td>\n",
       "      <td>0</td>\n",
       "      <td>0</td>\n",
       "      <td>0</td>\n",
       "      <td>0</td>\n",
       "      <td>0</td>\n",
       "    </tr>\n",
       "  </tbody>\n",
       "</table>\n",
       "<p>5 rows × 6005 columns</p>\n",
       "</div>"
      ],
      "text/plain": [
       "        is_duplicate  total_characters_q1  total_characters_q2  \\\n",
       "143169             0                   28                   35   \n",
       "375405             1                   12                   38   \n",
       "150837             1                   26                   40   \n",
       "212537             1                   33                   26   \n",
       "177302             0                   44                   46   \n",
       "\n",
       "        total_words_q1  total_words_q2  0  1  2  3  4  ...  2990  2991  2992  \\\n",
       "143169               5               7  0  0  0  0  0  ...     0     0     0   \n",
       "375405               2               5  0  0  0  0  0  ...     0     0     0   \n",
       "150837               3               4  0  0  0  0  0  ...     0     0     0   \n",
       "212537               4               3  0  0  0  0  0  ...     0     0     0   \n",
       "177302               5               6  0  0  0  0  0  ...     0     0     0   \n",
       "\n",
       "        2993  2994  2995  2996  2997  2998  2999  \n",
       "143169     0     0     0     0     0     0     0  \n",
       "375405     0     0     0     0     0     0     0  \n",
       "150837     0     0     0     0     0     0     0  \n",
       "212537     0     0     0     0     0     0     0  \n",
       "177302     0     0     0     0     0     0     0  \n",
       "\n",
       "[5 rows x 6005 columns]"
      ]
     },
     "execution_count": 49,
     "metadata": {},
     "output_type": "execute_result"
    }
   ],
   "source": [
    "final_df.sample(5)"
   ]
  },
  {
   "cell_type": "code",
   "execution_count": 48,
   "metadata": {},
   "outputs": [],
   "source": [
    "from sklearn.model_selection import train_test_split\n",
    "X_train,X_test,y_train,y_test = train_test_split(final_df.iloc[:,1:].values,final_df.iloc[:,0].values,test_size=0.3,random_state=1)"
   ]
  },
  {
   "cell_type": "code",
   "execution_count": 50,
   "metadata": {},
   "outputs": [
    {
     "data": {
      "text/plain": [
       "0.7474166666666666"
      ]
     },
     "execution_count": 50,
     "metadata": {},
     "output_type": "execute_result"
    }
   ],
   "source": [
    "from sklearn.ensemble import RandomForestClassifier\n",
    "from sklearn.metrics import accuracy_score\n",
    "rf = RandomForestClassifier()\n",
    "rf.fit(X_train,y_train)\n",
    "y_pred = rf.predict(X_test)\n",
    "accuracy_score(y_test,y_pred)"
   ]
  },
  {
   "cell_type": "code",
   "execution_count": 51,
   "metadata": {},
   "outputs": [
    {
     "data": {
      "text/plain": [
       "0.729"
      ]
     },
     "execution_count": 51,
     "metadata": {},
     "output_type": "execute_result"
    }
   ],
   "source": [
    "from xgboost import XGBClassifier\n",
    "xgb = XGBClassifier()\n",
    "xgb.fit(X_train,y_train)\n",
    "y_pred = xgb.predict(X_test)\n",
    "accuracy_score(y_test,y_pred)"
   ]
  }
 ],
 "metadata": {
  "kernelspec": {
   "display_name": "base",
   "language": "python",
   "name": "python3"
  },
  "language_info": {
   "codemirror_mode": {
    "name": "ipython",
    "version": 3
   },
   "file_extension": ".py",
   "mimetype": "text/x-python",
   "name": "python",
   "nbconvert_exporter": "python",
   "pygments_lexer": "ipython3",
   "version": "3.9.5"
  }
 },
 "nbformat": 4,
 "nbformat_minor": 2
}
