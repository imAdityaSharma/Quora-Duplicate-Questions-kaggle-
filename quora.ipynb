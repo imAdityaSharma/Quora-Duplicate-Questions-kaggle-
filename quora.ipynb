{
 "cells": [
  {
   "cell_type": "code",
   "execution_count": 1,
   "metadata": {},
   "outputs": [],
   "source": [
    "import pandas as pd\n",
    "from nltk.tokenize import word_tokenize as wt \n",
    "from nltk.corpus import stopwords"
   ]
  },
  {
   "cell_type": "code",
   "execution_count": 2,
   "metadata": {},
   "outputs": [],
   "source": [
    "from sklearn.feature_extraction.text import CountVectorizer\n",
    "from sklearn.metrics.pairwise import cosine_similarity"
   ]
  },
  {
   "cell_type": "code",
   "execution_count": 3,
   "metadata": {},
   "outputs": [],
   "source": [
    "from nltk.stem import wordnet\n",
    "from nltk.stem import WordNetLemmatizer\n",
    "import spacy\n",
    "nlp = spacy.load(\"en_core_web_sm\")\n",
    "lemmatizer = WordNetLemmatizer()"
   ]
  },
  {
   "cell_type": "code",
   "execution_count": 4,
   "metadata": {},
   "outputs": [
    {
     "data": {
      "text/html": [
       "<div>\n",
       "<style scoped>\n",
       "    .dataframe tbody tr th:only-of-type {\n",
       "        vertical-align: middle;\n",
       "    }\n",
       "\n",
       "    .dataframe tbody tr th {\n",
       "        vertical-align: top;\n",
       "    }\n",
       "\n",
       "    .dataframe thead th {\n",
       "        text-align: right;\n",
       "    }\n",
       "</style>\n",
       "<table border=\"1\" class=\"dataframe\">\n",
       "  <thead>\n",
       "    <tr style=\"text-align: right;\">\n",
       "      <th></th>\n",
       "      <th>id</th>\n",
       "      <th>qid1</th>\n",
       "      <th>qid2</th>\n",
       "      <th>question1</th>\n",
       "      <th>question2</th>\n",
       "      <th>is_duplicate</th>\n",
       "    </tr>\n",
       "  </thead>\n",
       "  <tbody>\n",
       "    <tr>\n",
       "      <th>0</th>\n",
       "      <td>0</td>\n",
       "      <td>1</td>\n",
       "      <td>2</td>\n",
       "      <td>What is the step by step guide to invest in sh...</td>\n",
       "      <td>What is the step by step guide to invest in sh...</td>\n",
       "      <td>0</td>\n",
       "    </tr>\n",
       "    <tr>\n",
       "      <th>1</th>\n",
       "      <td>1</td>\n",
       "      <td>3</td>\n",
       "      <td>4</td>\n",
       "      <td>What is the story of Kohinoor (Koh-i-Noor) Dia...</td>\n",
       "      <td>What would happen if the Indian government sto...</td>\n",
       "      <td>0</td>\n",
       "    </tr>\n",
       "  </tbody>\n",
       "</table>\n",
       "</div>"
      ],
      "text/plain": [
       "   id  qid1  qid2                                          question1  \\\n",
       "0   0     1     2  What is the step by step guide to invest in sh...   \n",
       "1   1     3     4  What is the story of Kohinoor (Koh-i-Noor) Dia...   \n",
       "\n",
       "                                           question2  is_duplicate  \n",
       "0  What is the step by step guide to invest in sh...             0  \n",
       "1  What would happen if the Indian government sto...             0  "
      ]
     },
     "execution_count": 4,
     "metadata": {},
     "output_type": "execute_result"
    }
   ],
   "source": [
    "df_qs= pd.read_csv('questions.csv',header=0)\n",
    "df_qs.head(2)"
   ]
  },
  {
   "cell_type": "code",
   "execution_count": 5,
   "metadata": {},
   "outputs": [],
   "source": [
    "new_qs_df = df_qs.sample(100000)\n",
    "new_qs_df.drop(['id'],axis=1,inplace=True)"
   ]
  },
  {
   "cell_type": "code",
   "execution_count": 6,
   "metadata": {},
   "outputs": [],
   "source": [
    "def remove_stopwords(text):\n",
    "    stopWords = set(stopwords.words('english'))\n",
    "    words = wt(text)\n",
    "    filtered_words = [word for word in words if word.lower() not in stopWords]\n",
    "    return ' '.join(filtered_words)"
   ]
  },
  {
   "cell_type": "code",
   "execution_count": 7,
   "metadata": {},
   "outputs": [],
   "source": [
    "new_qs_df['question1']=new_qs_df['question1'].apply(lambda x: str(x).replace('.', '').replace(',', '').replace(\"'\", '').replace('\"', '').replace('-',' ').replace('&','and').replace('?',''))\n",
    "new_qs_df['question2']=new_qs_df['question2'].apply(lambda x: str(x).replace('.', '').replace(',', '').replace(\"'\", '').replace('\"', '').replace('-',' ').replace('&','and').replace('?',''))"
   ]
  },
  {
   "cell_type": "code",
   "execution_count": 8,
   "metadata": {},
   "outputs": [],
   "source": [
    "new_qs_df['question1']=new_qs_df['question1'].apply(lambda x:remove_stopwords(x))\n",
    "new_qs_df['question2']=new_qs_df['question2'].apply(lambda x:remove_stopwords(x))"
   ]
  },
  {
   "cell_type": "code",
   "execution_count": 9,
   "metadata": {},
   "outputs": [
    {
     "data": {
      "text/html": [
       "<div>\n",
       "<style scoped>\n",
       "    .dataframe tbody tr th:only-of-type {\n",
       "        vertical-align: middle;\n",
       "    }\n",
       "\n",
       "    .dataframe tbody tr th {\n",
       "        vertical-align: top;\n",
       "    }\n",
       "\n",
       "    .dataframe thead th {\n",
       "        text-align: right;\n",
       "    }\n",
       "</style>\n",
       "<table border=\"1\" class=\"dataframe\">\n",
       "  <thead>\n",
       "    <tr style=\"text-align: right;\">\n",
       "      <th></th>\n",
       "      <th>qid1</th>\n",
       "      <th>qid2</th>\n",
       "      <th>question1</th>\n",
       "      <th>question2</th>\n",
       "      <th>is_duplicate</th>\n",
       "    </tr>\n",
       "  </thead>\n",
       "  <tbody>\n",
       "    <tr>\n",
       "      <th>87369</th>\n",
       "      <td>173497</td>\n",
       "      <td>173498</td>\n",
       "      <td>intellectual connection</td>\n",
       "      <td>intellectual</td>\n",
       "      <td>0</td>\n",
       "    </tr>\n",
       "    <tr>\n",
       "      <th>52614</th>\n",
       "      <td>28382</td>\n",
       "      <td>104702</td>\n",
       "      <td>anal sex painful tips reducing eliminating pain</td>\n",
       "      <td>reduce pain eyes</td>\n",
       "      <td>0</td>\n",
       "    </tr>\n",
       "    <tr>\n",
       "      <th>198915</th>\n",
       "      <td>392565</td>\n",
       "      <td>392566</td>\n",
       "      <td>far light travel nanosecond</td>\n",
       "      <td>far light torch light reach</td>\n",
       "      <td>0</td>\n",
       "    </tr>\n",
       "    <tr>\n",
       "      <th>293860</th>\n",
       "      <td>577282</td>\n",
       "      <td>577283</td>\n",
       "      <td>get friend 18th birthday</td>\n",
       "      <td>best ways celebrate 18th birthday</td>\n",
       "      <td>0</td>\n",
       "    </tr>\n",
       "    <tr>\n",
       "      <th>215416</th>\n",
       "      <td>88956</td>\n",
       "      <td>424779</td>\n",
       "      <td>one good husband</td>\n",
       "      <td>become good husband</td>\n",
       "      <td>1</td>\n",
       "    </tr>\n",
       "    <tr>\n",
       "      <th>...</th>\n",
       "      <td>...</td>\n",
       "      <td>...</td>\n",
       "      <td>...</td>\n",
       "      <td>...</td>\n",
       "      <td>...</td>\n",
       "    </tr>\n",
       "    <tr>\n",
       "      <th>39702</th>\n",
       "      <td>79086</td>\n",
       "      <td>79087</td>\n",
       "      <td>Spotify available India</td>\n",
       "      <td>Spotify : Spotify available India reasons unav...</td>\n",
       "      <td>1</td>\n",
       "    </tr>\n",
       "    <tr>\n",
       "      <th>358473</th>\n",
       "      <td>701988</td>\n",
       "      <td>701989</td>\n",
       "      <td>best ways build Memory Palace</td>\n",
       "      <td>develop mind palace</td>\n",
       "      <td>0</td>\n",
       "    </tr>\n",
       "    <tr>\n",
       "      <th>162995</th>\n",
       "      <td>322239</td>\n",
       "      <td>322240</td>\n",
       "      <td>get single room 81 CGPA VIT yes block prefer (...</td>\n",
       "      <td>good N block VIT Vellore get pics rooms N Block</td>\n",
       "      <td>0</td>\n",
       "    </tr>\n",
       "    <tr>\n",
       "      <th>12383</th>\n",
       "      <td>24724</td>\n",
       "      <td>24725</td>\n",
       "      <td>best ways meet single women San Francisco</td>\n",
       "      <td>good ways meet single women besides bars clubs...</td>\n",
       "      <td>1</td>\n",
       "    </tr>\n",
       "    <tr>\n",
       "      <th>378407</th>\n",
       "      <td>740156</td>\n",
       "      <td>740157</td>\n",
       "      <td>like expert something</td>\n",
       "      <td>expert</td>\n",
       "      <td>0</td>\n",
       "    </tr>\n",
       "  </tbody>\n",
       "</table>\n",
       "<p>100000 rows × 5 columns</p>\n",
       "</div>"
      ],
      "text/plain": [
       "          qid1    qid2                                          question1  \\\n",
       "87369   173497  173498                            intellectual connection   \n",
       "52614    28382  104702    anal sex painful tips reducing eliminating pain   \n",
       "198915  392565  392566                        far light travel nanosecond   \n",
       "293860  577282  577283                           get friend 18th birthday   \n",
       "215416   88956  424779                                   one good husband   \n",
       "...        ...     ...                                                ...   \n",
       "39702    79086   79087                            Spotify available India   \n",
       "358473  701988  701989                      best ways build Memory Palace   \n",
       "162995  322239  322240  get single room 81 CGPA VIT yes block prefer (...   \n",
       "12383    24724   24725          best ways meet single women San Francisco   \n",
       "378407  740156  740157                              like expert something   \n",
       "\n",
       "                                                question2  is_duplicate  \n",
       "87369                                        intellectual             0  \n",
       "52614                                    reduce pain eyes             0  \n",
       "198915                        far light torch light reach             0  \n",
       "293860                  best ways celebrate 18th birthday             0  \n",
       "215416                                become good husband             1  \n",
       "...                                                   ...           ...  \n",
       "39702   Spotify : Spotify available India reasons unav...             1  \n",
       "358473                                develop mind palace             0  \n",
       "162995    good N block VIT Vellore get pics rooms N Block             0  \n",
       "12383   good ways meet single women besides bars clubs...             1  \n",
       "378407                                             expert             0  \n",
       "\n",
       "[100000 rows x 5 columns]"
      ]
     },
     "execution_count": 9,
     "metadata": {},
     "output_type": "execute_result"
    }
   ],
   "source": [
    "new_qs_df"
   ]
  },
  {
   "cell_type": "code",
   "execution_count": 10,
   "metadata": {},
   "outputs": [],
   "source": [
    "# print(new_qs_df['question1'][243945],\" || \",new_qs_df['question2'][243945])"
   ]
  },
  {
   "cell_type": "markdown",
   "metadata": {},
   "source": [
    "<h1>New Features</h1>\n",
    "<h3>feature engineering</h3>\n",
    "<li>total characters</li>\n",
    "<li>total words</li>\n",
    "<li>Common word count</li>\n",
    "<li>sentence character Length diffrence </li>\n",
    "<li>difference in number of words</li>\n"
   ]
  },
  {
   "cell_type": "code",
   "execution_count": 11,
   "metadata": {},
   "outputs": [],
   "source": [
    "def total_characters(text):\n",
    "    return len(text)\n",
    "def total_words(text):\n",
    "    return len(text.split())\n",
    "def common_words(text):\n",
    "    return len(set(text['question1'].split()) & set(text['question2'].split()))\n",
    "# print(common_words(new_qs_df[243945]))\n",
    "# print(total_words(new_qs_df['question1'][152007]),' ',total_words(new_qs_df['question2'][152007]))\n"
   ]
  },
  {
   "cell_type": "code",
   "execution_count": 12,
   "metadata": {},
   "outputs": [],
   "source": [
    "new_qs_df['total_common_words']=new_qs_df.apply(lambda x:common_words(x),axis=1)"
   ]
  },
  {
   "cell_type": "code",
   "execution_count": null,
   "metadata": {},
   "outputs": [],
   "source": []
  },
  {
   "cell_type": "code",
   "execution_count": 13,
   "metadata": {},
   "outputs": [],
   "source": [
    "new_qs_df['total_characters_q1']=new_qs_df['question1'].apply(lambda x:total_characters(x))\n",
    "new_qs_df['total_characters_q2']=new_qs_df['question2'].apply(lambda x:total_characters(x))\n",
    "new_qs_df['total_words_q1']=new_qs_df['question1'].apply(lambda x:total_words(x))\n",
    "new_qs_df['total_words_q2']=new_qs_df['question2'].apply(lambda x:total_words(x))\n",
    "# new_qs_df['total_common_words']=new_qs_df[['question1','question2']].apply(lambda x,y:common_words(x,y))"
   ]
  },
  {
   "cell_type": "code",
   "execution_count": 14,
   "metadata": {},
   "outputs": [
    {
     "data": {
      "text/html": [
       "<div>\n",
       "<style scoped>\n",
       "    .dataframe tbody tr th:only-of-type {\n",
       "        vertical-align: middle;\n",
       "    }\n",
       "\n",
       "    .dataframe tbody tr th {\n",
       "        vertical-align: top;\n",
       "    }\n",
       "\n",
       "    .dataframe thead th {\n",
       "        text-align: right;\n",
       "    }\n",
       "</style>\n",
       "<table border=\"1\" class=\"dataframe\">\n",
       "  <thead>\n",
       "    <tr style=\"text-align: right;\">\n",
       "      <th></th>\n",
       "      <th>qid1</th>\n",
       "      <th>qid2</th>\n",
       "      <th>question1</th>\n",
       "      <th>question2</th>\n",
       "      <th>is_duplicate</th>\n",
       "      <th>total_common_words</th>\n",
       "      <th>total_characters_q1</th>\n",
       "      <th>total_characters_q2</th>\n",
       "      <th>total_words_q1</th>\n",
       "      <th>total_words_q2</th>\n",
       "    </tr>\n",
       "  </thead>\n",
       "  <tbody>\n",
       "    <tr>\n",
       "      <th>87369</th>\n",
       "      <td>173497</td>\n",
       "      <td>173498</td>\n",
       "      <td>intellectual connection</td>\n",
       "      <td>intellectual</td>\n",
       "      <td>0</td>\n",
       "      <td>1</td>\n",
       "      <td>23</td>\n",
       "      <td>12</td>\n",
       "      <td>2</td>\n",
       "      <td>1</td>\n",
       "    </tr>\n",
       "    <tr>\n",
       "      <th>52614</th>\n",
       "      <td>28382</td>\n",
       "      <td>104702</td>\n",
       "      <td>anal sex painful tips reducing eliminating pain</td>\n",
       "      <td>reduce pain eyes</td>\n",
       "      <td>0</td>\n",
       "      <td>1</td>\n",
       "      <td>47</td>\n",
       "      <td>16</td>\n",
       "      <td>7</td>\n",
       "      <td>3</td>\n",
       "    </tr>\n",
       "    <tr>\n",
       "      <th>198915</th>\n",
       "      <td>392565</td>\n",
       "      <td>392566</td>\n",
       "      <td>far light travel nanosecond</td>\n",
       "      <td>far light torch light reach</td>\n",
       "      <td>0</td>\n",
       "      <td>2</td>\n",
       "      <td>27</td>\n",
       "      <td>27</td>\n",
       "      <td>4</td>\n",
       "      <td>5</td>\n",
       "    </tr>\n",
       "    <tr>\n",
       "      <th>293860</th>\n",
       "      <td>577282</td>\n",
       "      <td>577283</td>\n",
       "      <td>get friend 18th birthday</td>\n",
       "      <td>best ways celebrate 18th birthday</td>\n",
       "      <td>0</td>\n",
       "      <td>2</td>\n",
       "      <td>24</td>\n",
       "      <td>33</td>\n",
       "      <td>4</td>\n",
       "      <td>5</td>\n",
       "    </tr>\n",
       "    <tr>\n",
       "      <th>215416</th>\n",
       "      <td>88956</td>\n",
       "      <td>424779</td>\n",
       "      <td>one good husband</td>\n",
       "      <td>become good husband</td>\n",
       "      <td>1</td>\n",
       "      <td>2</td>\n",
       "      <td>16</td>\n",
       "      <td>19</td>\n",
       "      <td>3</td>\n",
       "      <td>3</td>\n",
       "    </tr>\n",
       "    <tr>\n",
       "      <th>...</th>\n",
       "      <td>...</td>\n",
       "      <td>...</td>\n",
       "      <td>...</td>\n",
       "      <td>...</td>\n",
       "      <td>...</td>\n",
       "      <td>...</td>\n",
       "      <td>...</td>\n",
       "      <td>...</td>\n",
       "      <td>...</td>\n",
       "      <td>...</td>\n",
       "    </tr>\n",
       "    <tr>\n",
       "      <th>39702</th>\n",
       "      <td>79086</td>\n",
       "      <td>79087</td>\n",
       "      <td>Spotify available India</td>\n",
       "      <td>Spotify : Spotify available India reasons unav...</td>\n",
       "      <td>1</td>\n",
       "      <td>3</td>\n",
       "      <td>23</td>\n",
       "      <td>56</td>\n",
       "      <td>3</td>\n",
       "      <td>7</td>\n",
       "    </tr>\n",
       "    <tr>\n",
       "      <th>358473</th>\n",
       "      <td>701988</td>\n",
       "      <td>701989</td>\n",
       "      <td>best ways build Memory Palace</td>\n",
       "      <td>develop mind palace</td>\n",
       "      <td>0</td>\n",
       "      <td>0</td>\n",
       "      <td>29</td>\n",
       "      <td>19</td>\n",
       "      <td>5</td>\n",
       "      <td>3</td>\n",
       "    </tr>\n",
       "    <tr>\n",
       "      <th>162995</th>\n",
       "      <td>322239</td>\n",
       "      <td>322240</td>\n",
       "      <td>get single room 81 CGPA VIT yes block prefer (...</td>\n",
       "      <td>good N block VIT Vellore get pics rooms N Block</td>\n",
       "      <td>0</td>\n",
       "      <td>3</td>\n",
       "      <td>59</td>\n",
       "      <td>47</td>\n",
       "      <td>13</td>\n",
       "      <td>10</td>\n",
       "    </tr>\n",
       "    <tr>\n",
       "      <th>12383</th>\n",
       "      <td>24724</td>\n",
       "      <td>24725</td>\n",
       "      <td>best ways meet single women San Francisco</td>\n",
       "      <td>good ways meet single women besides bars clubs...</td>\n",
       "      <td>1</td>\n",
       "      <td>6</td>\n",
       "      <td>41</td>\n",
       "      <td>60</td>\n",
       "      <td>7</td>\n",
       "      <td>10</td>\n",
       "    </tr>\n",
       "    <tr>\n",
       "      <th>378407</th>\n",
       "      <td>740156</td>\n",
       "      <td>740157</td>\n",
       "      <td>like expert something</td>\n",
       "      <td>expert</td>\n",
       "      <td>0</td>\n",
       "      <td>1</td>\n",
       "      <td>21</td>\n",
       "      <td>6</td>\n",
       "      <td>3</td>\n",
       "      <td>1</td>\n",
       "    </tr>\n",
       "  </tbody>\n",
       "</table>\n",
       "<p>100000 rows × 10 columns</p>\n",
       "</div>"
      ],
      "text/plain": [
       "          qid1    qid2                                          question1  \\\n",
       "87369   173497  173498                            intellectual connection   \n",
       "52614    28382  104702    anal sex painful tips reducing eliminating pain   \n",
       "198915  392565  392566                        far light travel nanosecond   \n",
       "293860  577282  577283                           get friend 18th birthday   \n",
       "215416   88956  424779                                   one good husband   \n",
       "...        ...     ...                                                ...   \n",
       "39702    79086   79087                            Spotify available India   \n",
       "358473  701988  701989                      best ways build Memory Palace   \n",
       "162995  322239  322240  get single room 81 CGPA VIT yes block prefer (...   \n",
       "12383    24724   24725          best ways meet single women San Francisco   \n",
       "378407  740156  740157                              like expert something   \n",
       "\n",
       "                                                question2  is_duplicate  \\\n",
       "87369                                        intellectual             0   \n",
       "52614                                    reduce pain eyes             0   \n",
       "198915                        far light torch light reach             0   \n",
       "293860                  best ways celebrate 18th birthday             0   \n",
       "215416                                become good husband             1   \n",
       "...                                                   ...           ...   \n",
       "39702   Spotify : Spotify available India reasons unav...             1   \n",
       "358473                                develop mind palace             0   \n",
       "162995    good N block VIT Vellore get pics rooms N Block             0   \n",
       "12383   good ways meet single women besides bars clubs...             1   \n",
       "378407                                             expert             0   \n",
       "\n",
       "        total_common_words  total_characters_q1  total_characters_q2  \\\n",
       "87369                    1                   23                   12   \n",
       "52614                    1                   47                   16   \n",
       "198915                   2                   27                   27   \n",
       "293860                   2                   24                   33   \n",
       "215416                   2                   16                   19   \n",
       "...                    ...                  ...                  ...   \n",
       "39702                    3                   23                   56   \n",
       "358473                   0                   29                   19   \n",
       "162995                   3                   59                   47   \n",
       "12383                    6                   41                   60   \n",
       "378407                   1                   21                    6   \n",
       "\n",
       "        total_words_q1  total_words_q2  \n",
       "87369                2               1  \n",
       "52614                7               3  \n",
       "198915               4               5  \n",
       "293860               4               5  \n",
       "215416               3               3  \n",
       "...                ...             ...  \n",
       "39702                3               7  \n",
       "358473               5               3  \n",
       "162995              13              10  \n",
       "12383                7              10  \n",
       "378407               3               1  \n",
       "\n",
       "[100000 rows x 10 columns]"
      ]
     },
     "execution_count": 14,
     "metadata": {},
     "output_type": "execute_result"
    }
   ],
   "source": [
    "new_qs_df"
   ]
  },
  {
   "cell_type": "code",
   "execution_count": 15,
   "metadata": {},
   "outputs": [],
   "source": [
    "def lemma(text):\n",
    "    lemm = [word.lemma_ for word in nlp(text)]\n",
    "    return ' '.join(lemm)\n"
   ]
  },
  {
   "cell_type": "code",
   "execution_count": 16,
   "metadata": {},
   "outputs": [],
   "source": [
    "new_qs_df['question1']=new_qs_df['question1'].apply(lambda x:lemma(x))\n",
    "new_qs_df['question2']=new_qs_df['question2'].apply(lambda x:lemma(x))"
   ]
  },
  {
   "cell_type": "code",
   "execution_count": 17,
   "metadata": {},
   "outputs": [],
   "source": [
    "# new_qs_df['question1']=new_qs_df['question1'].apply(lambda x: wt(x))\n",
    "# new_qs_df['question2']=new_qs_df['question2'].apply(lambda x: wt(x))"
   ]
  },
  {
   "cell_type": "code",
   "execution_count": 18,
   "metadata": {},
   "outputs": [],
   "source": [
    "ques=list(new_qs_df['question1'])+list(new_qs_df['question2'])"
   ]
  },
  {
   "cell_type": "code",
   "execution_count": 19,
   "metadata": {},
   "outputs": [],
   "source": [
    "import numpy as np"
   ]
  },
  {
   "cell_type": "code",
   "execution_count": 20,
   "metadata": {},
   "outputs": [],
   "source": [
    "cv = CountVectorizer(max_features=3000)\n",
    "q1_ar,q2_ar = np.vsplit(cv.fit_transform(ques).toarray(),2)\n"
   ]
  },
  {
   "cell_type": "code",
   "execution_count": 21,
   "metadata": {},
   "outputs": [],
   "source": [
    "tdf1=pd.DataFrame(q1_ar,index=new_qs_df.index)\n",
    "tdf2=pd.DataFrame(q2_ar,index=new_qs_df.index)\n",
    "tdf = pd.concat([tdf1,tdf2],axis=1)"
   ]
  },
  {
   "cell_type": "code",
   "execution_count": 22,
   "metadata": {},
   "outputs": [],
   "source": [
    "final_df = new_qs_df.drop(columns=['qid1','qid2','question1','question2'])"
   ]
  },
  {
   "cell_type": "code",
   "execution_count": 23,
   "metadata": {},
   "outputs": [],
   "source": [
    "# tdf.shape"
   ]
  },
  {
   "cell_type": "code",
   "execution_count": 24,
   "metadata": {},
   "outputs": [
    {
     "data": {
      "text/plain": [
       "(100000, 6006)"
      ]
     },
     "execution_count": 24,
     "metadata": {},
     "output_type": "execute_result"
    }
   ],
   "source": [
    "final_df=pd.concat([final_df, tdf], axis=1)\n",
    "final_df.shape"
   ]
  },
  {
   "cell_type": "code",
   "execution_count": 25,
   "metadata": {},
   "outputs": [],
   "source": [
    "# final_df.sample(5)"
   ]
  },
  {
   "cell_type": "code",
   "execution_count": 26,
   "metadata": {},
   "outputs": [],
   "source": [
    "from sklearn.model_selection import train_test_split\n",
    "X_train,X_test,y_train,y_test = train_test_split(final_df.iloc[:,1:].values,final_df.iloc[:,0].values,test_size=0.3,random_state=1)"
   ]
  },
  {
   "cell_type": "code",
   "execution_count": 27,
   "metadata": {},
   "outputs": [
    {
     "data": {
      "text/plain": [
       "0.7810666666666667"
      ]
     },
     "execution_count": 27,
     "metadata": {},
     "output_type": "execute_result"
    }
   ],
   "source": [
    "from sklearn.ensemble import RandomForestClassifier\n",
    "from sklearn.metrics import accuracy_score\n",
    "rf = RandomForestClassifier()\n",
    "rf.fit(X_train,y_train)\n",
    "y_pred = rf.predict(X_test)\n",
    "accuracy_score(y_test,y_pred)"
   ]
  },
  {
   "cell_type": "code",
   "execution_count": 28,
   "metadata": {},
   "outputs": [
    {
     "data": {
      "text/plain": [
       "0.7600333333333333"
      ]
     },
     "execution_count": 28,
     "metadata": {},
     "output_type": "execute_result"
    }
   ],
   "source": [
    "from xgboost import XGBClassifier\n",
    "xgb = XGBClassifier()\n",
    "xgb.fit(X_train,y_train)\n",
    "y_pred = xgb.predict(X_test)\n",
    "accuracy_score(y_test,y_pred)"
   ]
  },
  {
   "cell_type": "code",
   "execution_count": 29,
   "metadata": {},
   "outputs": [],
   "source": [
    "import pickle \n"
   ]
  },
  {
   "cell_type": "code",
   "execution_count": 30,
   "metadata": {},
   "outputs": [],
   "source": [
    "with open('Quora_rfmodel.pkl', 'wb') as f:\n",
    "    pickle.dump(rf, f)\n",
    "with open('Quora_XGBmodel.pkl', 'wb') as f:\n",
    "    pickle.dump(xgb, f)"
   ]
  }
 ],
 "metadata": {
  "kernelspec": {
   "display_name": "base",
   "language": "python",
   "name": "python3"
  },
  "language_info": {
   "codemirror_mode": {
    "name": "ipython",
    "version": 3
   },
   "file_extension": ".py",
   "mimetype": "text/x-python",
   "name": "python",
   "nbconvert_exporter": "python",
   "pygments_lexer": "ipython3",
   "version": "3.9.5"
  }
 },
 "nbformat": 4,
 "nbformat_minor": 2
}
